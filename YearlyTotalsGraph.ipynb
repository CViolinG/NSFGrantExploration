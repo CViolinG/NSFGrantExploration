{
 "cells": [
  {
   "cell_type": "markdown",
   "metadata": {},
   "source": [
    "Get Yearly Total NSF Grant Awards, Plot them as time series Data"
   ]
  },
  {
   "cell_type": "code",
   "execution_count": 1,
   "metadata": {},
   "outputs": [],
   "source": [
    "import xml.etree.cElementTree as ET\n",
    "import pandas as pd\n",
    "import collections\n",
    "import numpy as np\n",
    "import matplotlib.pyplot as plt\n",
    "from mpl_toolkits.basemap import Basemap as Basemap\n",
    "from matplotlib.colors import rgb2hex\n",
    "from matplotlib.patches import Polygon\n",
    "import re"
   ]
  },
  {
   "cell_type": "code",
   "execution_count": 2,
   "metadata": {},
   "outputs": [
    {
     "name": "stdout",
     "output_type": "stream",
     "text": [
      "/bin/sh: /bin/ls: Argument list too long\r\n"
     ]
    }
   ],
   "source": [
    "!ls */*.xml"
   ]
  },
  {
   "cell_type": "code",
   "execution_count": 3,
   "metadata": {},
   "outputs": [
    {
     "name": "stdout",
     "output_type": "stream",
     "text": [
      "import xml.etree.cElementTree as ET\r\n",
      "import csv\r\n",
      "import sys\r\n",
      "\r\n",
      "\r\n",
      "# open a file for writing\r\n",
      "\r\n",
      "Output = open('Output.csv', 'w')\r\n",
      "csvwriter = csv.writer(Output)\r\n",
      "header = ['Award', 'Division', 'First Name', 'Last Name', 'Institution', 'State']\r\n",
      "csvwriter.writerow(header)\r\n",
      "count = 0\r\n",
      "for file in sys.argv:\r\n",
      "    print file\r\n",
      "    if(count==0):\r\n",
      "        count+=1\r\n",
      "        continue\r\n",
      "    output_array = []\r\n",
      "    tree = ET.ElementTree(file=file)\r\n",
      "    for elem in tree.iter('AwardAmount'):\r\n",
      "            Award = elem.text\r\n",
      "    output_array.append(Award)\r\n",
      "    for elem in tree.iter('Division'):\r\n",
      "        for sub in elem.iter('LongName'):\r\n",
      "            Division = sub.text\r\n",
      "    output_array.append(Division)\r\n",
      "    for elem in tree.iter('Investigator'):\r\n",
      "        for sub in elem.iter('FirstName'):\r\n",
      "            FirstName = sub.text\r\n",
      "        for sub in elem.iter('LastName'):\r\n",
      "            LastName = sub.text\r\n",
      "    output_array.append(FirstName)\r\n",
      "    output_array.append(LastName)\r\n",
      "    for elem in tree.iter('Institution'):\r\n",
      "        for sub in elem.iter('Name'):\r\n",
      "            Institution = sub.text\r\n",
      "        for sub in elem.iter('StateName'):\r\n",
      "            State = sub.text\r\n",
      "    output_array.append(Institution)\r\n",
      "    output_array.append(State)\r\n",
      "    csvwriter.writerow(output_array)\r\n",
      "Output.close()\r\n"
     ]
    }
   ],
   "source": [
    "!cat xmlToCSV.py"
   ]
  },
  {
   "cell_type": "markdown",
   "metadata": {},
   "source": [
    "!for i in `ls -d */`;\n",
    "    do echo \\$i;\n",
    "    python  xmlToCSV.py \\$i/*.xml;\n",
    "    mv Output.csv \\$i;\n",
    "done"
   ]
  },
  {
   "cell_type": "markdown",
   "metadata": {},
   "source": [
    "a few of these are too long and require piping ls to a file, then reading the file for arguments to write from."
   ]
  },
  {
   "cell_type": "markdown",
   "metadata": {},
   "source": [
    "A few of them required editing out nonstandard characters, about 5 files total."
   ]
  },
  {
   "cell_type": "code",
   "execution_count": 4,
   "metadata": {},
   "outputs": [
    {
     "name": "stdout",
     "output_type": "stream",
     "text": [
      "1959/Output.csv 1972/Output.csv 1984/Output.csv 1996/Output.csv 2008/Output.csv\r\n",
      "1961/Output.csv 1973/Output.csv 1985/Output.csv 1997/Output.csv 2009/Output.csv\r\n",
      "1962/Output.csv 1974/Output.csv 1986/Output.csv 1998/Output.csv 2010/Output.csv\r\n",
      "1963/Output.csv 1975/Output.csv 1987/Output.csv 1999/Output.csv 2011/Output.csv\r\n",
      "1964/Output.csv 1976/Output.csv 1988/Output.csv 2000/Output.csv 2012/Output.csv\r\n",
      "1965/Output.csv 1977/Output.csv 1989/Output.csv 2001/Output.csv 2013/Output.csv\r\n",
      "1966/Output.csv 1978/Output.csv 1990/Output.csv 2002/Output.csv 2014/Output.csv\r\n",
      "1967/Output.csv 1979/Output.csv 1991/Output.csv 2003/Output.csv 2015/Output.csv\r\n",
      "1968/Output.csv 1980/Output.csv 1992/Output.csv 2004/Output.csv 2016/Output.csv\r\n",
      "1969/Output.csv 1981/Output.csv 1993/Output.csv 2005/Output.csv 2017/Output.csv\r\n",
      "1970/Output.csv 1982/Output.csv 1994/Output.csv 2006/Output.csv\r\n",
      "1971/Output.csv 1983/Output.csv 1995/Output.csv 2007/Output.csv\r\n"
     ]
    }
   ],
   "source": [
    "!ls */*.csv"
   ]
  },
  {
   "cell_type": "code",
   "execution_count": 5,
   "metadata": {},
   "outputs": [],
   "source": [
    "directories = range(1961, 2017)"
   ]
  },
  {
   "cell_type": "code",
   "execution_count": 6,
   "metadata": {},
   "outputs": [],
   "source": [
    "dataDict = {}\n",
    "\n",
    "for directory in directories:\n",
    "    fstring = str(directory) + \"/Output.csv\"\n",
    "    data = pd.read_csv(fstring)\n",
    "    dataDict[directory] = data"
   ]
  },
  {
   "cell_type": "code",
   "execution_count": 7,
   "metadata": {},
   "outputs": [],
   "source": [
    "#check to make sure each dataframe has an appropriate number of frames.\n",
    "#for directory in dataDict.keys():\n",
    "#    print directory, dataDict[directory].shape"
   ]
  },
  {
   "cell_type": "code",
   "execution_count": 8,
   "metadata": {},
   "outputs": [
    {
     "data": {
      "text/plain": [
       "<Container object of 56 artists>"
      ]
     },
     "execution_count": 8,
     "metadata": {},
     "output_type": "execute_result"
    },
    {
     "data": {
      "image/png": "[encoded data removed]",
      "text/plain": [
       "<matplotlib.figure.Figure at 0x105a2d950>"
      ]
     },
     "metadata": {},
     "output_type": "display_data"
    }
   ],
   "source": [
    "#find the yearly total of each year.\n",
    "i=0\n",
    "xvals = np.zeros(len(list(dataDict.keys())))\n",
    "yvals = np.zeros(len(list(dataDict.keys())))\n",
    "for directory in dataDict.keys():\n",
    "    xvals[i] = directory\n",
    "    yvals[i] = np.sum(dataDict[directory].Award)\n",
    "    #print directory, yvals[i]\n",
    "    i=i+1\n",
    "import pylab\n",
    "pylab.title(\"Yearly Awards Granted in USD\")\n",
    "pylab.bar( xvals, yvals)"
   ]
  },
  {
   "cell_type": "code",
   "execution_count": 9,
   "metadata": {},
   "outputs": [
    {
     "data": {
      "text/plain": [
       "<Container object of 56 artists>"
      ]
     },
     "execution_count": 9,
     "metadata": {},
     "output_type": "execute_result"
    },
    {
     "data": {
      "image/png": "[encoded data removed]",
      "text/plain": [
       "<matplotlib.figure.Figure at 0x109b1c1d0>"
      ]
     },
     "metadata": {},
     "output_type": "display_data"
    }
   ],
   "source": [
    "i=0\n",
    "xvals = np.zeros(len(list(dataDict.keys())))\n",
    "yvals = np.zeros(len(list(dataDict.keys())))\n",
    "for directory in dataDict.keys():\n",
    "    xvals[i] = directory\n",
    "    yvals[i] = dataDict[directory].shape[0]\n",
    "    #print directory, yvals[i]\n",
    "    i=i+1\n",
    "import pylab\n",
    "pylab.title(\"Yearly Awards Granted (Total)\")\n",
    "pylab.bar( xvals, yvals)"
   ]
  },
  {
   "cell_type": "code",
   "execution_count": 10,
   "metadata": {},
   "outputs": [
    {
     "data": {
      "text/plain": [
       "<Container object of 56 artists>"
      ]
     },
     "execution_count": 10,
     "metadata": {},
     "output_type": "execute_result"
    },
    {
     "data": {
      "image/png": "[encoded data removed]",
      "text/plain": [
       "<matplotlib.figure.Figure at 0x10dcb1a50>"
      ]
     },
     "metadata": {},
     "output_type": "display_data"
    }
   ],
   "source": [
    "i=0\n",
    "xvals = np.zeros(len(list(dataDict.keys())))\n",
    "yvals = np.zeros(len(list(dataDict.keys())))\n",
    "for directory in dataDict.keys():\n",
    "    xvals[i] = directory\n",
    "    summation = np.sum(dataDict[directory].Award)\n",
    "    yvals[i] = float(summation) / dataDict[directory].shape[0]\n",
    "    #print directory, yvals[i]\n",
    "    i=i+1\n",
    "pylab.title(\"Yearly Average Award\")\n",
    "pylab.bar( xvals, yvals)"
   ]
  },
  {
   "cell_type": "code",
   "execution_count": 11,
   "metadata": {},
   "outputs": [
    {
     "data": {
      "text/plain": [
       "<Container object of 56 artists>"
      ]
     },
     "execution_count": 11,
     "metadata": {},
     "output_type": "execute_result"
    },
    {
     "data": {
      "image/png": "[encoded data removed]",
      "text/plain": [
       "<matplotlib.figure.Figure at 0x10d0cc590>"
      ]
     },
     "metadata": {},
     "output_type": "display_data"
    }
   ],
   "source": [
    "#splice out the abnormally high value\n",
    "yvals[5] = 0\n",
    "pylab.title(\"Yearly Average Award\")\n",
    "pylab.bar( xvals, yvals)"
   ]
  },
  {
   "cell_type": "code",
   "execution_count": 12,
   "metadata": {},
   "outputs": [
    {
     "data": {
      "text/plain": [
       "<Container object of 25 artists>"
      ]
     },
     "execution_count": 12,
     "metadata": {},
     "output_type": "execute_result"
    },
    {
     "data": {
      "image/png": "[encoded data removed]",
      "text/plain": [
       "<matplotlib.figure.Figure at 0x10dfd35d0>"
      ]
     },
     "metadata": {},
     "output_type": "display_data"
    }
   ],
   "source": [
    "#look at the last 25 years\n",
    "yvals[5] = 0\n",
    "pylab.title(\"Yearly Average Award\")\n",
    "pylab.bar( xvals[-25:], yvals[-25:])"
   ]
  },
  {
   "cell_type": "code",
   "execution_count": 13,
   "metadata": {
    "scrolled": true
   },
   "outputs": [
    {
     "data": {
      "text/plain": [
       "<Container object of 56 artists>"
      ]
     },
     "execution_count": 13,
     "metadata": {},
     "output_type": "execute_result"
    },
    {
     "data": {
      "image/png": "[encoded data removed]",
      "text/plain": [
       "<matplotlib.figure.Figure at 0x10df4b210>"
      ]
     },
     "metadata": {},
     "output_type": "display_data"
    }
   ],
   "source": [
    "#can i see the average/total award for mathematical sciences?\n",
    "#Division of mathematical sciences\n",
    "i=0\n",
    "xvals = np.zeros(len(list(dataDict.keys())))\n",
    "yvals = np.zeros(len(list(dataDict.keys())))\n",
    "for directory in dataDict.keys():\n",
    "    xvals[i] = directory\n",
    "    summation = np.sum(dataDict[directory].Award[dataDict[directory].Division == 'Division Of Mathematical Sciences'])\n",
    "    yvals[i] = float(summation)# / dataDict[directory].shape[0]\n",
    "    #print directory, yvals[i]\n",
    "    i=i+1\n",
    "pylab.title(\"Division Of Mathematical Scienes Awards (Total USD)\")\n",
    "pylab.bar( xvals, yvals)"
   ]
  },
  {
   "cell_type": "code",
   "execution_count": 14,
   "metadata": {},
   "outputs": [
    {
     "name": "stdout",
     "output_type": "stream",
     "text": [
      "1961.0 nan\n",
      "1962.0 nan\n",
      "1963.0 nan\n",
      "1964.0 nan\n",
      "1965.0 nan\n",
      "1966.0 nan\n",
      "1967.0 nan\n",
      "1968.0 0.0\n",
      "1969.0 284200.0\n",
      "1970.0 1239855.0\n",
      "1971.0 8175000.0\n",
      "1972.0 8180673.0\n",
      "1973.0 6362900.0\n",
      "1974.0 9532257.0\n",
      "1975.0 16051138.0\n",
      "1976.0 24515093.0\n",
      "1977.0 24836766.0\n",
      "1978.0 26645066.0\n",
      "1979.0 25398269.0\n",
      "1980.0 25795703.0\n",
      "1981.0 46054457.0\n",
      "1982.0 33705492.0\n",
      "1983.0 37780853.0\n",
      "1984.0 42822435.0\n",
      "1985.0 68750799.0\n",
      "1986.0 59468693.0\n",
      "1987.0 60720689.0\n",
      "1988.0 59799912.0\n",
      "1989.0 84113808.0\n",
      "1990.0 89293925.0\n",
      "1991.0 71536411.0\n",
      "1992.0 84686342.0\n",
      "1993.0 79949575.0\n",
      "1994.0 78281228.0\n",
      "1995.0 99008008.0\n",
      "1996.0 74159276.0\n",
      "1997.0 108955388.0\n",
      "1998.0 160118194.0\n",
      "1999.0 148841352.0\n",
      "2000.0 121718835.0\n",
      "2001.0 170842479.0\n",
      "2002.0 169477605.0\n",
      "2003.0 153622858.0\n",
      "2004.0 213118154.0\n",
      "2005.0 178112669.0\n",
      "2006.0 257157513.0\n",
      "2007.0 181364013.0\n",
      "2008.0 211133145.0\n",
      "2009.0 364111838.0\n",
      "2010.0 232756048.0\n",
      "2011.0 266841990.0\n",
      "2012.0 215153133.0\n",
      "2013.0 205424234.0\n",
      "2014.0 227979501.0\n",
      "2015.0 192938638.0\n",
      "2016.0 157475398.0\n"
     ]
    }
   ],
   "source": [
    "for i in range(len(yvals)):\n",
    "    print xvals[i], yvals[i]"
   ]
  },
  {
   "cell_type": "code",
   "execution_count": 15,
   "metadata": {
    "scrolled": true
   },
   "outputs": [
    {
     "data": {
      "text/plain": [
       "<Container object of 49 artists>"
      ]
     },
     "execution_count": 15,
     "metadata": {},
     "output_type": "execute_result"
    },
    {
     "data": {
      "image/png": "[encoded data removed]",
      "text/plain": [
       "<matplotlib.figure.Figure at 0x10e075110>"
      ]
     },
     "metadata": {},
     "output_type": "display_data"
    }
   ],
   "source": [
    "#can i see the average/total award for mathematical sciences?\n",
    "#Division of mathematical sciences\n",
    "i=0\n",
    "j=0 #counter for number of years w/o data\n",
    "xvals = np.zeros(len(list(dataDict.keys())))\n",
    "yvals = np.zeros(len(list(dataDict.keys())))\n",
    "for directory in dataDict.keys():\n",
    "    xvals[i] = directory\n",
    "    summation = np.sum(dataDict[directory].Award[dataDict[directory].Division == 'Division Of Mathematical Sciences'])\n",
    "    divisor = dataDict[directory].Award[dataDict[directory].Division == 'Division Of Mathematical Sciences'].shape[0]\n",
    "    #print divisor\n",
    "    if divisor == 0:\n",
    "        j+=1\n",
    "        continue\n",
    "        \n",
    "    yvals[i] = float(summation) / divisor\n",
    "    #print directory, yvals[i]\n",
    "    i=i+1\n",
    "pylab.title(\"Division Of Mathematical Scienes Awards (Average USD)\")\n",
    "pylab.bar( xvals[:-j], yvals[:-j])"
   ]
  },
  {
   "cell_type": "code",
   "execution_count": 33,
   "metadata": {},
   "outputs": [
    {
     "name": "stdout",
     "output_type": "stream",
     "text": [
      "[  1.80225063e+01   3.91819963e+03   2.52901297e+04]\n",
      "387874.385087\n"
     ]
    }
   ],
   "source": [
    "#now, can i get the slope of these values, and make a naieve prediction for the average award in say 2030?\n",
    "p, res, _, _, _ = np.polyfit(np.arange(len(yvals[:-j])), yvals[:-j], 2, full=True)\n",
    "print p\n",
    "f = np.poly1d(p)\n",
    "predictAverage = f(len(yvals) + (2030-2016))\n",
    "print predictAverage"
   ]
  },
  {
   "cell_type": "code",
   "execution_count": 38,
   "metadata": {},
   "outputs": [],
   "source": [
    "institutions = collections.defaultdict(int)\n",
    "for directory in directories:\n",
    "    institutionByYear = collections.Counter(list(dataDict[directory].Institution))\n",
    "    for key in institutionByYear:\n",
    "        institutions[key] += institutionByYear[key]"
   ]
  },
  {
   "cell_type": "code",
   "execution_count": 37,
   "metadata": {},
   "outputs": [
    {
     "data": {
      "text/plain": [
       "338"
      ]
     },
     "execution_count": 37,
     "metadata": {},
     "output_type": "execute_result"
    }
   ],
   "source": [
    "institutions['University of Minnesota Saint Paul']"
   ]
  },
  {
   "cell_type": "code",
   "execution_count": 45,
   "metadata": {},
   "outputs": [
    {
     "data": {
      "text/plain": [
       "{'Arizona State University': 3182,\n",
       " 'Brown University': 2327,\n",
       " 'California Institute of Technology': 2787,\n",
       " 'Carnegie-Mellon University': 3485,\n",
       " 'Case Western Reserve University': 1375,\n",
       " 'Clemson University': 1039,\n",
       " 'Colorado State University': 2131,\n",
       " 'Columbia University': 4381,\n",
       " 'Cornell University': 4756,\n",
       " 'Dartmouth College': 1102,\n",
       " 'Drexel University': 1058,\n",
       " 'Duke University': 2970,\n",
       " 'Fellowships': 1487,\n",
       " 'Florida State University': 1644,\n",
       " 'Georgia Tech Research Corporation': 3770,\n",
       " 'Gordon Research Conferences': 1077,\n",
       " 'Harvard University': 3668,\n",
       " 'Indiana University': 2972,\n",
       " 'Individual Award': 2877,\n",
       " 'Iowa State University': 2077,\n",
       " 'Johns Hopkins University': 2708,\n",
       " 'Kansas State University': 1030,\n",
       " 'Lehigh University': 1085,\n",
       " 'Louisiana State University & Agricultural and Mechanical College': 1609,\n",
       " 'Massachusetts Institute of Technology': 5756,\n",
       " 'Michigan State University': 3058,\n",
       " 'National Academy of Sciences': 1232,\n",
       " 'National Bureau of Economic Research Inc': 1005,\n",
       " 'New York University': 2048,\n",
       " 'North Carolina State University': 2689,\n",
       " 'Northeastern University': 1275,\n",
       " 'Northwestern University': 3504,\n",
       " 'Ohio State University': 1818,\n",
       " 'Ohio State University Research Foundation -DO NOT USE': 2298,\n",
       " 'Oregon State University': 2994,\n",
       " 'Pennsylvania State Univ University Park': 5074,\n",
       " 'Princeton University': 3278,\n",
       " 'Purdue Research Foundation': 1138,\n",
       " 'Purdue University': 3286,\n",
       " 'Rensselaer Polytechnic Institute': 1827,\n",
       " 'Rutgers University New Brunswick': 3515,\n",
       " 'SUNY at Buffalo': 1849,\n",
       " 'SUNY at Stony Brook': 2939,\n",
       " 'Stanford University': 4699,\n",
       " 'Syracuse University': 1167,\n",
       " 'Texas A&M Engineering Experiment Station': 1142,\n",
       " 'Texas A&M Research Foundation': 1576,\n",
       " 'Travel Award': 3411,\n",
       " 'Trustees of Boston University': 2115,\n",
       " 'University of Alaska Fairbanks Campus': 1636,\n",
       " 'University of Arizona': 4329,\n",
       " 'University of California-Berkeley': 6891,\n",
       " 'University of California-Davis': 3499,\n",
       " 'University of California-Irvine': 2616,\n",
       " 'University of California-Los Angeles': 4763,\n",
       " 'University of California-Riverside': 1668,\n",
       " 'University of California-San Diego': 3614,\n",
       " 'University of California-San Diego Scripps Inst of Oceanography': 2229,\n",
       " 'University of California-Santa Barbara': 3116,\n",
       " 'University of California-Santa Cruz': 1858,\n",
       " 'University of Chicago': 3013,\n",
       " 'University of Cincinnati Main Campus': 1040,\n",
       " 'University of Colorado at Boulder': 4651,\n",
       " 'University of Connecticut': 1743,\n",
       " 'University of Delaware': 1932,\n",
       " 'University of Florida': 3413,\n",
       " 'University of Georgia Research Foundation Inc': 1594,\n",
       " 'University of Hawaii': 2609,\n",
       " 'University of Houston': 1276,\n",
       " 'University of Illinois at Chicago': 1920,\n",
       " 'University of Illinois at Urbana-Champaign': 6392,\n",
       " 'University of Iowa': 1726,\n",
       " 'University of Kentucky Research Foundation': 1160,\n",
       " 'University of Maryland College Park': 4203,\n",
       " 'University of Massachusetts Amherst': 2752,\n",
       " 'University of Michigan Ann Arbor': 6738,\n",
       " 'University of Minnesota-Twin Cities': 4826,\n",
       " 'University of Missouri-Columbia': 1440,\n",
       " 'University of Nebraska-Lincoln': 1497,\n",
       " 'University of New Hampshire': 1067,\n",
       " 'University of New Mexico': 1602,\n",
       " 'University of North Carolina at Chapel Hill': 2368,\n",
       " 'University of Notre Dame': 1567,\n",
       " 'University of Oklahoma Norman Campus': 1374,\n",
       " 'University of Oregon Eugene': 1668,\n",
       " 'University of Pennsylvania': 3005,\n",
       " 'University of Pittsburgh': 2483,\n",
       " 'University of Rhode Island': 1232,\n",
       " 'University of Rochester': 1598,\n",
       " 'University of South Carolina at Columbia': 1011,\n",
       " 'University of South Florida': 1034,\n",
       " 'University of Southern California': 3162,\n",
       " 'University of Tennessee Knoxville': 1524,\n",
       " 'University of Texas at Austin': 4831,\n",
       " 'University of Utah': 2404,\n",
       " 'University of Virginia Main Campus': 2301,\n",
       " 'University of Washington': 6493,\n",
       " 'University of Wisconsin-Madison': 5945,\n",
       " 'University of Wyoming': 1019,\n",
       " 'Vanderbilt University': 1218,\n",
       " 'Virginia Polytechnic Institute and State University': 2710,\n",
       " 'Washington State University': 1569,\n",
       " 'Washington University': 1871,\n",
       " 'William Marsh Rice University': 1952,\n",
       " 'Woods Hole Oceanographic Institution': 2960,\n",
       " 'Yale University': 3041}"
      ]
     },
     "execution_count": 45,
     "metadata": {},
     "output_type": "execute_result"
    }
   ],
   "source": [
    "i=0\n",
    "top100 = {}\n",
    "for key in institutions.keys():\n",
    "    if institutions[key] > 1000:\n",
    "        top100[key] = institutions[key]\n",
    "        \n",
    "top100"
   ]
  },
  {
   "cell_type": "code",
   "execution_count": null,
   "metadata": {},
   "outputs": [],
   "source": [
    "top100Predictions = {}\n",
    "for inst in top100.keys():\n",
    "    if inst=='Fellowships' or inst=='Individual Award' or inst=='Travel Award':\n",
    "        continue\n",
    "    "
   ]
  },
  {
   "cell_type": "code",
   "execution_count": 81,
   "metadata": {
    "scrolled": true
   },
   "outputs": [],
   "source": [
    "#can i see the average/total award for mathematical sciences?\n",
    "#Division of mathematical sciences\n",
    "predictAverage = {}\n",
    "predictionYear = 2030\n",
    "for institution in top100.keys():\n",
    "    i=0\n",
    "    j=0 #counter for number of years w/o data\n",
    "    xvals = np.zeros(len(list(dataDict.keys())))\n",
    "    yvals = np.zeros(len(list(dataDict.keys())))\n",
    "    if institution=='Fellowships' or institution=='Individual Award' or institution=='Travel Award':\n",
    "        continue\n",
    "    \n",
    "    for directory in dataDict.keys():\n",
    "        xvals[i] = directory\n",
    "        summation = np.sum(dataDict[directory].Award[dataDict[directory].Institution == institution])\n",
    "        divisor = dataDict[directory].Award[dataDict[directory].Institution == institution].shape[0]\n",
    "        #print divisor\n",
    "        if divisor == 0:\n",
    "            j+=1\n",
    "            continue\n",
    "        \n",
    "        yvals[i] = float(summation) / divisor\n",
    "        #print directory, yvals[i]\n",
    "        i=i+1\n",
    "#now, can i get the slope of these values, and make a naieve prediction for the average award in say 2030?\n",
    "    p, res, _, _, _ = np.polyfit(np.arange(len(yvals[:-j])), yvals[:-j], 2, full=True)\n",
    "    #print p\n",
    "    f = np.poly1d(p)\n",
    "    predictAverage[institution] = f(len(yvals) + (predictionYear-2016))\n",
    "    #print institution, predictAverage[institution]"
   ]
  },
  {
   "cell_type": "code",
   "execution_count": 82,
   "metadata": {},
   "outputs": [
    {
     "name": "stdout",
     "output_type": "stream",
     "text": [
      "Predictions for 2030:\n",
      "1) Texas A&M Research Foundation : 581783477\n",
      "2) University of Washington : 3311538\n",
      "3) New York University : 3236705\n",
      "4) University of Alaska Fairbanks Campus : 2049740\n",
      "5) Vanderbilt University : 2965736\n",
      "6) University of Colorado at Boulder : 2364317\n",
      "7) University of California-Berkeley : 2124555\n",
      "8) Ohio State University : 1928947\n",
      "9) University of Tennessee Knoxville : 1503391\n",
      "10) University of Georgia Research Foundation Inc : 1488156\n"
     ]
    }
   ],
   "source": [
    "i=0\n",
    "print \"Predictions for %s:\" %predictionYear\n",
    "for inst, prediction in sorted(predictAverage.items(), key=lambda(k,v): v, reverse=True):\n",
    "    if(np.isnan(prediction)):\n",
    "        continue\n",
    "    if(i<10):\n",
    "        i+=1\n",
    "        print \"%s) %s : %i\" % (i, inst, int(prediction))"
   ]
  },
  {
   "cell_type": "code",
   "execution_count": null,
   "metadata": {},
   "outputs": [],
   "source": []
  }
 ],
 "metadata": {
  "kernelspec": {
   "display_name": "Python 3",
   "language": "python",
   "name": "python3"
  },
  "language_info": {
   "codemirror_mode": {
    "name": "ipython",
    "version": 2
   },
   "file_extension": ".py",
   "mimetype": "text/x-python",
   "name": "python",
   "nbconvert_exporter": "python",
   "pygments_lexer": "ipython2",
   "version": "2.7.14"
  }
 },
 "nbformat": 4,
 "nbformat_minor": 2
}
