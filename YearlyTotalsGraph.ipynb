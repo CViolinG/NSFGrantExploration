{
 "cells": [
  {
   "cell_type": "markdown",
   "metadata": {},
   "source": [
    "Get Yearly Total NSF Grant Awards, Plot them as time series Data"
   ]
  },
  {
   "cell_type": "code",
   "execution_count": 1,
   "metadata": {},
   "outputs": [],
   "source": [
    "import xml.etree.cElementTree as ET\n",
    "import pandas as pd\n",
    "import collections\n",
    "import numpy as np\n",
    "import matplotlib.pyplot as plt\n",
    "from mpl_toolkits.basemap import Basemap as Basemap\n",
    "from matplotlib.colors import rgb2hex\n",
    "from matplotlib.patches import Polygon\n",
    "import re"
   ]
  },
  {
   "cell_type": "code",
   "execution_count": 2,
   "metadata": {},
   "outputs": [
    {
     "name": "stdout",
     "output_type": "stream",
     "text": [
      "/bin/sh: /bin/ls: Argument list too long\r\n"
     ]
    }
   ],
   "source": [
    "!ls */*.xml"
   ]
  },
  {
   "cell_type": "code",
   "execution_count": 3,
   "metadata": {},
   "outputs": [
    {
     "name": "stdout",
     "output_type": "stream",
     "text": [
      "import xml.etree.cElementTree as ET\r\n",
      "import csv\r\n",
      "import sys\r\n",
      "\r\n",
      "\r\n",
      "# open a file for writing\r\n",
      "\r\n",
      "Output = open('Output.csv', 'w')\r\n",
      "csvwriter = csv.writer(Output)\r\n",
      "header = ['Award', 'Division', 'First Name', 'Last Name', 'Institution', 'State']\r\n",
      "csvwriter.writerow(header)\r\n",
      "count = 0\r\n",
      "for file in sys.argv:\r\n",
      "    if(count==0):\r\n",
      "        count+=1\r\n",
      "        continue\r\n",
      "    output_array = []\r\n",
      "    tree = ET.ElementTree(file=file)\r\n",
      "    for elem in tree.iter('AwardAmount'):\r\n",
      "            Award = elem.text\r\n",
      "    output_array.append(Award)\r\n",
      "    for elem in tree.iter('Division'):\r\n",
      "        for sub in elem.iter('LongName'):\r\n",
      "            Division = sub.text\r\n",
      "    output_array.append(Division)\r\n",
      "    for elem in tree.iter('Investigator'):\r\n",
      "        for sub in elem.iter('FirstName'):\r\n",
      "            FirstName = sub.text\r\n",
      "        for sub in elem.iter('LastName'):\r\n",
      "            LastName = sub.text\r\n",
      "    output_array.append(FirstName)\r\n",
      "    output_array.append(LastName)\r\n",
      "    for elem in tree.iter('Institution'):\r\n",
      "        for sub in elem.iter('Name'):\r\n",
      "            Institution = sub.text\r\n",
      "        for sub in elem.iter('StateName'):\r\n",
      "            State = sub.text\r\n",
      "    output_array.append(Institution)\r\n",
      "    output_array.append(State)\r\n",
      "    csvwriter.writerow(output_array)\r\n",
      "Output.close()\r\n"
     ]
    }
   ],
   "source": [
    "!cat xmlToCSV.py"
   ]
  },
  {
   "cell_type": "markdown",
   "metadata": {},
   "source": [
    "!for i in `ls -d */`;\n",
    "    do echo \\$i;\n",
    "    python  xmlToCSV.py \\$i/*.xml;\n",
    "    mv Output.csv \\$i;\n",
    "done"
   ]
  },
  {
   "cell_type": "markdown",
   "metadata": {},
   "source": [
    "a few of these are too long and require piping ls to a file, then reading the file for arguments to write from."
   ]
  },
  {
   "cell_type": "markdown",
   "metadata": {},
   "source": [
    "A few of them required editing out nonstandard characters, about 5 files total."
   ]
  },
  {
   "cell_type": "code",
   "execution_count": 13,
   "metadata": {},
   "outputs": [
    {
     "name": "stdout",
     "output_type": "stream",
     "text": [
      "1959/Output.csv 1972/Output.csv 1984/Output.csv 1996/Output.csv 2008/Output.csv\r\n",
      "1961/Output.csv 1973/Output.csv 1985/Output.csv 1997/Output.csv 2009/Output.csv\r\n",
      "1962/Output.csv 1974/Output.csv 1986/Output.csv 1998/Output.csv 2010/Output.csv\r\n",
      "1963/Output.csv 1975/Output.csv 1987/Output.csv 1999/Output.csv 2011/Output.csv\r\n",
      "1964/Output.csv 1976/Output.csv 1988/Output.csv 2000/Output.csv 2012/Output.csv\r\n",
      "1965/Output.csv 1977/Output.csv 1989/Output.csv 2001/Output.csv 2013/Output.csv\r\n",
      "1966/Output.csv 1978/Output.csv 1990/Output.csv 2002/Output.csv 2014/Output.csv\r\n",
      "1967/Output.csv 1979/Output.csv 1991/Output.csv 2003/Output.csv 2015/Output.csv\r\n",
      "1968/Output.csv 1980/Output.csv 1992/Output.csv 2004/Output.csv 2016/Output.csv\r\n",
      "1969/Output.csv 1981/Output.csv 1993/Output.csv 2005/Output.csv 2017/Output.csv\r\n",
      "1970/Output.csv 1982/Output.csv 1994/Output.csv 2006/Output.csv\r\n",
      "1971/Output.csv 1983/Output.csv 1995/Output.csv 2007/Output.csv\r\n"
     ]
    }
   ],
   "source": [
    "!ls */*.csv"
   ]
  },
  {
   "cell_type": "code",
   "execution_count": 20,
   "metadata": {},
   "outputs": [],
   "source": [
    "directories = range(1961, 2017)"
   ]
  },
  {
   "cell_type": "code",
   "execution_count": 21,
   "metadata": {},
   "outputs": [],
   "source": [
    "dataDict = {}\n",
    "\n",
    "for directory in directories:\n",
    "    fstring = str(directory) + \"/Output.csv\"\n",
    "    data = pd.read_csv(fstring)\n",
    "    dataDict[directory] = data"
   ]
  },
  {
   "cell_type": "code",
   "execution_count": 25,
   "metadata": {},
   "outputs": [],
   "source": [
    "#check to make sure each dataframe has an appropriate number of frames.\n",
    "#for directory in dataDict.keys():\n",
    "#    print directory, dataDict[directory].shape"
   ]
  },
  {
   "cell_type": "code",
   "execution_count": 33,
   "metadata": {},
   "outputs": [
    {
     "data": {
      "text/plain": [
       "<Container object of 56 artists>"
      ]
     },
     "execution_count": 33,
     "metadata": {},
     "output_type": "execute_result"
    },
    {
     "data": {
      "image/png": "[encoded data removed]",
      "text/plain": [
       "<matplotlib.figure.Figure at 0x116a7d510>"
      ]
     },
     "metadata": {},
     "output_type": "display_data"
    }
   ],
   "source": [
    "#find the yearly total of each year.\n",
    "i=0\n",
    "xvals = np.zeros(len(list(dataDict.keys())))\n",
    "yvals = np.zeros(len(list(dataDict.keys())))\n",
    "for directory in dataDict.keys():\n",
    "    xvals[i] = directory\n",
    "    yvals[i] = np.sum(dataDict[directory].Award)\n",
    "    #print directory, yvals[i]\n",
    "    i=i+1\n",
    "import pylab\n",
    "pylab.title(\"Yearly Awards Granted in USD\")\n",
    "pylab.bar( xvals, yvals)"
   ]
  },
  {
   "cell_type": "code",
   "execution_count": 34,
   "metadata": {},
   "outputs": [
    {
     "data": {
      "text/plain": [
       "<Container object of 56 artists>"
      ]
     },
     "execution_count": 34,
     "metadata": {},
     "output_type": "execute_result"
    },
    {
     "data": {
      "image/png": "[encoded data removed]",
      "text/plain": [
       "<matplotlib.figure.Figure at 0x11702eed0>"
      ]
     },
     "metadata": {},
     "output_type": "display_data"
    }
   ],
   "source": [
    "i=0\n",
    "xvals = np.zeros(len(list(dataDict.keys())))\n",
    "yvals = np.zeros(len(list(dataDict.keys())))\n",
    "for directory in dataDict.keys():\n",
    "    xvals[i] = directory\n",
    "    yvals[i] = dataDict[directory].shape[0]\n",
    "    #print directory, yvals[i]\n",
    "    i=i+1\n",
    "import pylab\n",
    "pylab.title(\"Yearly Awards Granted (Total)\")\n",
    "pylab.bar( xvals, yvals)"
   ]
  },
  {
   "cell_type": "code",
   "execution_count": 41,
   "metadata": {},
   "outputs": [
    {
     "data": {
      "text/plain": [
       "<Container object of 56 artists>"
      ]
     },
     "execution_count": 41,
     "metadata": {},
     "output_type": "execute_result"
    },
    {
     "data": {
      "image/png": "[encoded data removed]",
      "text/plain": [
       "<matplotlib.figure.Figure at 0x11716d750>"
      ]
     },
     "metadata": {},
     "output_type": "display_data"
    }
   ],
   "source": [
    "i=0\n",
    "xvals = np.zeros(len(list(dataDict.keys())))\n",
    "yvals = np.zeros(len(list(dataDict.keys())))\n",
    "for directory in dataDict.keys():\n",
    "    xvals[i] = directory\n",
    "    summation = np.sum(dataDict[directory].Award)\n",
    "    yvals[i] = float(summation) / dataDict[directory].shape[0]\n",
    "    #print directory, yvals[i]\n",
    "    i=i+1\n",
    "pylab.title(\"Yearly Average Award\")\n",
    "pylab.bar( xvals, yvals)"
   ]
  },
  {
   "cell_type": "code",
   "execution_count": 42,
   "metadata": {},
   "outputs": [
    {
     "data": {
      "text/plain": [
       "<Container object of 56 artists>"
      ]
     },
     "execution_count": 42,
     "metadata": {},
     "output_type": "execute_result"
    },
    {
     "data": {
      "image/png": "[encoded data removed]",
      "text/plain": [
       "<matplotlib.figure.Figure at 0x120c29e50>"
      ]
     },
     "metadata": {},
     "output_type": "display_data"
    }
   ],
   "source": [
    "#splice out the abnormally high value\n",
    "yvals[5] = 0\n",
    "pylab.title(\"Yearly Average Award\")\n",
    "pylab.bar( xvals, yvals)"
   ]
  },
  {
   "cell_type": "code",
   "execution_count": 44,
   "metadata": {},
   "outputs": [
    {
     "data": {
      "text/plain": [
       "<Container object of 25 artists>"
      ]
     },
     "execution_count": 44,
     "metadata": {},
     "output_type": "execute_result"
    },
    {
     "data": {
      "image/png": "[encoded data removed]",
      "text/plain": [
       "<matplotlib.figure.Figure at 0x120b25fd0>"
      ]
     },
     "metadata": {},
     "output_type": "display_data"
    }
   ],
   "source": [
    "#look at the last 25 years\n",
    "yvals[5] = 0\n",
    "pylab.title(\"Yearly Average Award\")\n",
    "pylab.bar( xvals[-25:], yvals[-25:])"
   ]
  },
  {
   "cell_type": "code",
   "execution_count": null,
   "metadata": {},
   "outputs": [],
   "source": []
  }
 ],
 "metadata": {
  "kernelspec": {
   "display_name": "Python 3",
   "language": "python",
   "name": "python3"
  },
  "language_info": {
   "codemirror_mode": {
    "name": "ipython",
    "version": 2
   },
   "file_extension": ".py",
   "mimetype": "text/x-python",
   "name": "python",
   "nbconvert_exporter": "python",
   "pygments_lexer": "ipython2",
   "version": "2.7.14"
  }
 },
 "nbformat": 4,
 "nbformat_minor": 2
}
